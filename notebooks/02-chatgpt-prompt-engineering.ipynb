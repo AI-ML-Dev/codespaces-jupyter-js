{
 "cells": [
  {
   "cell_type": "markdown",
   "metadata": {},
   "source": [
    "# ChatGPT Prompt Engineering For Developers\n",
    "\n",
    "Capturing notes and completing exercises for the DeepLearning.AI [1-hr short course](https://learn.deeplearning.ai/chatgpt-prompt-eng/lesson/1/introduction?_gl=1*126uqak*_ga*MTY2ODkwODkwOS4xNjgzMzk3NDY0*_ga_PZF1GBS1R1*MTY5MzI3OTA3MC42LjEuMTY5MzI3OTI2NC4xOS4wLjA.) released in 2023."
   ]
  }
 ],
 "metadata": {
  "language_info": {
   "name": "python"
  },
  "orig_nbformat": 4
 },
 "nbformat": 4,
 "nbformat_minor": 2
}
