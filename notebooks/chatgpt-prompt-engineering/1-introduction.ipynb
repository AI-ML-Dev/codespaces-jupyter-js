{
 "cells": [
  {
   "cell_type": "markdown",
   "metadata": {},
   "source": [
    "\n",
    "# ChatGPT Prompt Engineering For Developers"
   ]
  },
  {
   "cell_type": "markdown",
   "metadata": {},
   "source": [
    "## Unit 1: Introduction\n",
    "\n",
    "For developers, the power of LLM (Large Language Models) comes in the ability to deliver rich experiences by making API calls to an LLM to achieve tasks like summarization, inference, transformation, and expansion - of text inputs. In this course, we learn to build a chat bot using API calls to LLM.\n",
    "\n",
    "There are 2 types of LLM: _Base LLM_ trained to predict the next word, and _Instruction-Tuned LLM_ trained to follow instructions. The latter uses Reinforcement Learning with Human Feedback (RLHF) and is trained to be _Helpful, Honest, Harmless_. This course recommends we prioritize focus on Instruction-Tuned LLM (IT-LLM) and teaches best practices for doing so.\n",
    "\n",
    "Think of an IT-LLM as a smart-friend but not a mind reader. In other words, when an IT-LLM fails to deliver an expected result, it might be because the _instructions it was given_ were not representative. Some guidance:\n",
    " - Be Specific: Was I clear in what I wanted the focus of the result to be?\n",
    " - Set Tone: Was I clear about the tone (conversational, formal, social etc.) to use in writing?\n",
    " - Give Context: Can I provide explicit snippets of text or references that can help specialize this further?\n",
    "\n",
    "References:\n",
    "1. [OpenAI Cookbook: Recipes](https://github.com/openai/openai-cookbook)\n",
    "2. [OpenAI Docs: Tutorials](https://platform.openai.com/docs/tutorials)\n",
    "3. [OpenAI Gallery: Examples](https://platform.openai.com/examples)"
   ]
  },
  {
   "cell_type": "markdown",
   "metadata": {},
   "source": [
    "## Unit 2: Guidelines for Prompting\n",
    "\n",
    "2 Principles for Prompt Writing:\n",
    " 1. Write clear and specific prompts.\n",
    " 2. Give the model time to think.\n",
    "\n",
    "### Setup for OpenAI Exercises\n",
    "\n",
    "Adding this section to document how we configure our Codespaces to support this exercises:\n",
    "1. Install `openai` Python library. \n",
    "    - Use `pip install openai` to do this temporarily, in current container\n",
    "    - Update _requirements.txt_ to add `openai` to do this permanently (and rebuild current container).\n",
    "2. Set the OPENAI_API_KEY environment variable to your OpenAI key.\n",
    "    - First, get an OpenAI account. Create new secret key [under API keys](https://platform.openai.com/account/api-keys) - and copy it.\n",
    "    - For Codespaces, [create a Codespaces secret](https://github.com/settings/codespaces) with name OPENAI_API_KEY\n",
    "    - Paste the OpenAI secret key you copied previously into the _Value_ field of the Codespaces secret.\n",
    "    \n",
    "    - Select repositories that should be given access to this key, and \"Add secret\"\n",
    "    - The secret is now _automatically exported_ [as an env var in user's terminal](https://docs.github.com/en/codespaces/managing-your-codespaces/managing-encrypted-secrets-for-your-codespaces#using-secrets)\n",
    "    - Rebuild container to enforce new secrets - test in terminal with `echo $OPENAI_API_KEY`"
   ]
  }
 ],
 "metadata": {
  "kernelspec": {
   "display_name": "Python 3",
   "language": "python",
   "name": "python3"
  },
  "language_info": {
   "codemirror_mode": {
    "name": "ipython",
    "version": 3
   },
   "file_extension": ".py",
   "mimetype": "text/x-python",
   "name": "python",
   "nbconvert_exporter": "python",
   "pygments_lexer": "ipython3",
   "version": "3.10.8"
  },
  "orig_nbformat": 4
 },
 "nbformat": 4,
 "nbformat_minor": 2
}
